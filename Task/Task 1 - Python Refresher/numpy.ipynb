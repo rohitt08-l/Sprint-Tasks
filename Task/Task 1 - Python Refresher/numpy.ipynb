{
 "cells": [
  {
   "cell_type": "code",
   "execution_count": 1,
   "id": "3bc0124f-623e-4451-ad1e-6b18d1897ce5",
   "metadata": {},
   "outputs": [],
   "source": [
    "#importing numpy library\n",
    "import numpy as np"
   ]
  },
  {
   "cell_type": "code",
   "execution_count": 4,
   "id": "e0ad45da-d629-4a81-b666-26a4593ae185",
   "metadata": {},
   "outputs": [
    {
     "name": "stdout",
     "output_type": "stream",
     "text": [
      "[12, 3, 323, 13, 1, 39]\n",
      "<class 'list'>\n"
     ]
    }
   ],
   "source": [
    "#creating an list\n",
    "a=[12,3,323,13,1,39]\n",
    "print(a)\n",
    "print(type(a))"
   ]
  },
  {
   "cell_type": "code",
   "execution_count": 5,
   "id": "edf56c7e-203d-4deb-b093-50a3c552ea90",
   "metadata": {},
   "outputs": [
    {
     "name": "stdout",
     "output_type": "stream",
     "text": [
      "[ 12   3 323  13   1  39]\n",
      "<class 'numpy.ndarray'>\n"
     ]
    }
   ],
   "source": [
    "#converting a list into numpy array\n",
    "a=np.array(a)#this is an 1D array i.e arrat with single row\n",
    "print(a)\n",
    "print(type(a))"
   ]
  },
  {
   "cell_type": "code",
   "execution_count": 16,
   "id": "ebc4b4ee-0a91-4783-a1d9-91b429edb242",
   "metadata": {},
   "outputs": [
    {
     "name": "stdout",
     "output_type": "stream",
     "text": [
      "Max number in array= 323\n",
      "Min number in array= 1\n",
      "Sum of all numbers in array= 391\n",
      "Mean of numbers in array= 65.16666666666667\n",
      "Shape of array= (6,)\n"
     ]
    }
   ],
   "source": [
    "print('Max number in array=',max(a))#max number\n",
    "print('Min number in array=',min(a))#min number\n",
    "print('Sum of all numbers in array=',sum(a))#sum of all numbers\n",
    "print('Mean of numbers in array=',a.mean())#mean\n",
    "print('Shape of array=',a.shape)#min number"
   ]
  },
  {
   "cell_type": "code",
   "execution_count": 22,
   "id": "6fd7e775-5a04-484c-acc7-d330ca85b7d5",
   "metadata": {},
   "outputs": [],
   "source": [
    "#creating random numpy array"
   ]
  },
  {
   "cell_type": "code",
   "execution_count": 23,
   "id": "2d66264e-7d1b-48d8-96fc-372d4001698c",
   "metadata": {},
   "outputs": [
    {
     "name": "stdout",
     "output_type": "stream",
     "text": [
      "[[0. 0. 0. 0.]\n",
      " [0. 0. 0. 0.]\n",
      " [0. 0. 0. 0.]]\n"
     ]
    }
   ],
   "source": [
    "print(np.zeros((3,4))) #creating array with all zero elements"
   ]
  },
  {
   "cell_type": "code",
   "execution_count": 24,
   "id": "185e8b29-1195-4db7-8dff-a89bc3f9b900",
   "metadata": {},
   "outputs": [
    {
     "name": "stdout",
     "output_type": "stream",
     "text": [
      "[[1. 1.]\n",
      " [1. 1.]]\n"
     ]
    }
   ],
   "source": [
    "print(np.ones((2,2))) #creating array with all 1 elements"
   ]
  },
  {
   "cell_type": "code",
   "execution_count": 27,
   "id": "ba325766-49df-4f15-be88-08c779695822",
   "metadata": {},
   "outputs": [
    {
     "name": "stdout",
     "output_type": "stream",
     "text": [
      "[[5 5 5]\n",
      " [5 5 5]\n",
      " [5 5 5]\n",
      " [5 5 5]\n",
      " [5 5 5]]\n"
     ]
    }
   ],
   "source": [
    "print(np.full((5,3),5)) #creating an array filled with 5"
   ]
  },
  {
   "cell_type": "code",
   "execution_count": 29,
   "id": "48eda197-5aa4-4f52-9d75-dd665a2f08a0",
   "metadata": {},
   "outputs": [
    {
     "name": "stdout",
     "output_type": "stream",
     "text": [
      "[[1. 0.]\n",
      " [0. 1.]]\n"
     ]
    }
   ],
   "source": [
    "print(np.eye((2))) #creating an identity matrix"
   ]
  },
  {
   "cell_type": "code",
   "execution_count": 30,
   "id": "9df7369b-c0b1-4bfa-89eb-9de6fa5d9994",
   "metadata": {},
   "outputs": [
    {
     "data": {
      "text/plain": [
       "array([[2, 2, 5, 6],\n",
       "       [1, 5, 2, 3]])"
      ]
     },
     "execution_count": 30,
     "metadata": {},
     "output_type": "execute_result"
    }
   ],
   "source": [
    "np.random.randint(1, 10, (2, 4)) #creating an random array from numbers 1 to 10"
   ]
  },
  {
   "cell_type": "code",
   "execution_count": 37,
   "id": "03b84f98-dbe3-49cb-b5f7-9ba5c5b8d58f",
   "metadata": {},
   "outputs": [
    {
     "name": "stdout",
     "output_type": "stream",
     "text": [
      "1D array: [1 2 3]\n",
      "Shape: (3,)\n",
      "Dimensions: 1\n"
     ]
    }
   ],
   "source": [
    "#creating an 1D array\n",
    "b= np.array([1,2,3])\n",
    "print(\"1D array:\",b)\n",
    "print(\"Shape:\", b.shape)\n",
    "print(\"Dimensions:\", b.ndim)"
   ]
  },
  {
   "cell_type": "code",
   "execution_count": 38,
   "id": "f6f895a2-23b5-49ee-be8e-7da2fcf8e102",
   "metadata": {},
   "outputs": [
    {
     "name": "stdout",
     "output_type": "stream",
     "text": [
      "2D array: [[1 2 3]\n",
      " [4 5 6]]\n",
      "Shape: (2, 3)\n",
      "Dimensions: 2\n"
     ]
    }
   ],
   "source": [
    "#creating an 2D array\n",
    "d=np.array([[1,2,3],[4,5,6]])\n",
    "print(\"2D array:\", d)\n",
    "print(\"Shape:\", d.shape)\n",
    "print(\"Dimensions:\", d.ndim)"
   ]
  },
  {
   "cell_type": "code",
   "execution_count": 31,
   "id": "6cb85e76-2b7d-47ae-b0e2-3bd2eb27ade1",
   "metadata": {},
   "outputs": [
    {
     "name": "stdout",
     "output_type": "stream",
     "text": [
      "[[[ 1  2  3]\n",
      "  [ 4  5  6]]\n",
      "\n",
      " [[ 7  8  9]\n",
      "  [10 11 12]]]\n",
      "Shape: (2, 2, 3)\n",
      "Dimensions: 3\n"
     ]
    }
   ],
   "source": [
    "c = np.array([[[1, 2, 3],\n",
    "               [4, 5, 6]],\n",
    "\n",
    "              [[7, 8, 9],\n",
    "               [10, 11, 12]]])\n",
    "print(c)\n",
    "print(\"Shape:\", c.shape)\n",
    "print(\"Dimensions:\", c.ndim)"
   ]
  },
  {
   "cell_type": "code",
   "execution_count": 39,
   "id": "1989c227-2c0b-4424-aa74-426f109c282a",
   "metadata": {},
   "outputs": [],
   "source": [
    "#Array Indexing and Slicing"
   ]
  },
  {
   "cell_type": "code",
   "execution_count": 44,
   "id": "36582abf-e8e6-4387-92f6-4b33c2f9ca9b",
   "metadata": {},
   "outputs": [
    {
     "data": {
      "text/plain": [
       "array([[ 1,  2,  3,  4],\n",
       "       [ 5,  6,  7,  8],\n",
       "       [ 9, 10, 11, 12]])"
      ]
     },
     "execution_count": 44,
     "metadata": {},
     "output_type": "execute_result"
    }
   ],
   "source": [
    "m1 = np.array([[1, 2, 3, 4],\n",
    "              [5, 6, 7, 8],\n",
    "              [9,10,11,12]])\n",
    "m1"
   ]
  },
  {
   "cell_type": "code",
   "execution_count": 46,
   "id": "8eeca8c1-6cb0-43fe-a9da-6fd53167c409",
   "metadata": {},
   "outputs": [
    {
     "data": {
      "text/plain": [
       "1"
      ]
     },
     "execution_count": 46,
     "metadata": {},
     "output_type": "execute_result"
    }
   ],
   "source": [
    "m1[0,0] #first row first column"
   ]
  },
  {
   "cell_type": "code",
   "execution_count": 47,
   "id": "dcbd4afb-aec6-4db4-a95b-a69879741eee",
   "metadata": {},
   "outputs": [
    {
     "data": {
      "text/plain": [
       "array([1, 2, 3, 4])"
      ]
     },
     "execution_count": 47,
     "metadata": {},
     "output_type": "execute_result"
    }
   ],
   "source": [
    "m1[0] #first row"
   ]
  },
  {
   "cell_type": "code",
   "execution_count": 51,
   "id": "8b4cb988-508c-4867-9efe-f5f5b55b8ce2",
   "metadata": {},
   "outputs": [
    {
     "data": {
      "text/plain": [
       "array([[ 2],\n",
       "       [ 6],\n",
       "       [10]])"
      ]
     },
     "execution_count": 51,
     "metadata": {},
     "output_type": "execute_result"
    }
   ],
   "source": [
    "m1[0:3,1:2] #first row entire second column"
   ]
  },
  {
   "cell_type": "code",
   "execution_count": 57,
   "id": "a3ed5b38-db64-48fa-8a1c-555915ad53ff",
   "metadata": {},
   "outputs": [
    {
     "data": {
      "text/plain": [
       "array([[[ 1,  2,  3],\n",
       "        [ 4,  5,  6]],\n",
       "\n",
       "       [[ 7,  8,  9],\n",
       "        [10, 11, 12]]])"
      ]
     },
     "execution_count": 57,
     "metadata": {},
     "output_type": "execute_result"
    }
   ],
   "source": [
    "c = np.array([[[1, 2, 3],\n",
    "               [4, 5, 6]],\n",
    "              [[7, 8, 9],\n",
    "               [10, 11, 12]]])\n",
    "c"
   ]
  },
  {
   "cell_type": "code",
   "execution_count": 56,
   "id": "22981e19-5500-4472-9512-e2fe4a461a32",
   "metadata": {},
   "outputs": [
    {
     "name": "stdout",
     "output_type": "stream",
     "text": [
      "6\n",
      "[[ 7  8  9]\n",
      " [10 11 12]]\n",
      "[[1 2 3]\n",
      " [7 8 9]]\n"
     ]
    }
   ],
   "source": [
    "print(c[0, 1, 2])   # Depth 0, row 1, col 2 -> 6\n",
    "print(c[1, :, :])   # Entire 2nd \"matrix\"\n",
    "print(c[:, 0, :])   # First row from each depth"
   ]
  },
  {
   "cell_type": "code",
   "execution_count": 58,
   "id": "effd1555-2427-4fcd-9140-7f6f87bf4389",
   "metadata": {},
   "outputs": [
    {
     "name": "stdout",
     "output_type": "stream",
     "text": [
      "[15 20 25]\n",
      "[10 20]\n"
     ]
    }
   ],
   "source": [
    "#bollean indexing\n",
    "arr = np.array([5, 10, 15, 20, 25])\n",
    "print(arr[arr > 10])    # Elements greater than 10 \n",
    "print(arr[arr % 2 == 0])# Even elements "
   ]
  },
  {
   "cell_type": "code",
   "execution_count": 59,
   "id": "ed161c47-0f19-4a0b-a678-4b4376fdd44d",
   "metadata": {},
   "outputs": [],
   "source": [
    "#array opearations"
   ]
  },
  {
   "cell_type": "code",
   "execution_count": 63,
   "id": "d7f5b694-255f-4748-8248-28be5fff532f",
   "metadata": {},
   "outputs": [
    {
     "name": "stdout",
     "output_type": "stream",
     "text": [
      "Martix A: [[1 2 3]\n",
      " [4 5 6]]\n",
      "Matrix B: [[4 3 1]\n",
      " [2 6 1]]\n"
     ]
    }
   ],
   "source": [
    "a=np.array([[1,2,3],[4,5,6]])\n",
    "b=np.array([[4,3,1],[2,6,1]])\n",
    "print('Martix A:',a)\n",
    "print('Matrix B:',b)"
   ]
  },
  {
   "cell_type": "code",
   "execution_count": 64,
   "id": "d61e355b-5600-44e0-af40-a4839a297955",
   "metadata": {},
   "outputs": [
    {
     "name": "stdout",
     "output_type": "stream",
     "text": [
      "[[ 5  5  4]\n",
      " [ 6 11  7]]\n"
     ]
    }
   ],
   "source": [
    "print(a+b) #addition of arrays"
   ]
  },
  {
   "cell_type": "code",
   "execution_count": 66,
   "id": "2ee0958f-cfe1-4007-bc65-6ee6e839b492",
   "metadata": {},
   "outputs": [
    {
     "name": "stdout",
     "output_type": "stream",
     "text": [
      "[[-3 -1  2]\n",
      " [ 2 -1  5]]\n"
     ]
    }
   ],
   "source": [
    "print(a-b) #Substraction of array"
   ]
  },
  {
   "cell_type": "code",
   "execution_count": 67,
   "id": "a0f4a1b4-2c53-4806-a08f-a580acfde889",
   "metadata": {},
   "outputs": [
    {
     "name": "stdout",
     "output_type": "stream",
     "text": [
      "[[ 4  6  3]\n",
      " [ 8 30  6]]\n"
     ]
    }
   ],
   "source": [
    "print(a*b) #Multiplication"
   ]
  },
  {
   "cell_type": "code",
   "execution_count": 68,
   "id": "8de2ff35-990c-4bdd-9630-2a2dc56d27d6",
   "metadata": {},
   "outputs": [
    {
     "name": "stdout",
     "output_type": "stream",
     "text": [
      "[[ 2  4  6]\n",
      " [ 8 10 12]]\n"
     ]
    }
   ],
   "source": [
    "print(2*a)#scalar multiplication"
   ]
  },
  {
   "cell_type": "code",
   "execution_count": 69,
   "id": "ba40ce05-19ac-462c-9dd5-dfdd111dd0c3",
   "metadata": {},
   "outputs": [
    {
     "data": {
      "text/plain": [
       "array([ 1,  4,  9, 16])"
      ]
     },
     "execution_count": 69,
     "metadata": {},
     "output_type": "execute_result"
    }
   ],
   "source": [
    "#applying mathematical functions on arrays\n",
    "arr = np.array([1, 4, 9, 16])\n",
    "arr"
   ]
  },
  {
   "cell_type": "code",
   "execution_count": 71,
   "id": "604b7c0e-a4fa-4667-8c61-67f449b64b48",
   "metadata": {},
   "outputs": [
    {
     "name": "stdout",
     "output_type": "stream",
     "text": [
      "[1. 2. 3. 4.]\n"
     ]
    }
   ],
   "source": [
    "print(np.sqrt(arr))   #square root of each element"
   ]
  },
  {
   "cell_type": "code",
   "execution_count": 73,
   "id": "fa419f32-27aa-4983-b200-b52580c3deb5",
   "metadata": {},
   "outputs": [
    {
     "name": "stdout",
     "output_type": "stream",
     "text": [
      "[2.71828183e+00 5.45981500e+01 8.10308393e+03 8.88611052e+06]\n"
     ]
    }
   ],
   "source": [
    "print(np.exp(arr))    # exponential of each element"
   ]
  },
  {
   "cell_type": "code",
   "execution_count": 74,
   "id": "2e601425-63df-40f2-b9a9-acce5e636e47",
   "metadata": {},
   "outputs": [
    {
     "name": "stdout",
     "output_type": "stream",
     "text": [
      "[ 0.84147098 -0.7568025   0.41211849 -0.28790332]\n"
     ]
    }
   ],
   "source": [
    "print(np.sin(arr))    # sine of each element"
   ]
  },
  {
   "cell_type": "code",
   "execution_count": 75,
   "id": "a05dc991-9f94-4abd-beb9-38df931e47d3",
   "metadata": {},
   "outputs": [],
   "source": [
    "#reshaping array"
   ]
  },
  {
   "cell_type": "code",
   "execution_count": 80,
   "id": "5874e3a1-f512-4a26-bf28-f29b5e8b1a41",
   "metadata": {},
   "outputs": [
    {
     "data": {
      "text/plain": [
       "array([9, 9, 2, 2, 3, 1, 2, 5, 7])"
      ]
     },
     "execution_count": 80,
     "metadata": {},
     "output_type": "execute_result"
    }
   ],
   "source": [
    "arr1=np.random.randint(1,10,9) #we have created an array of 9 elements\n",
    "arr1"
   ]
  },
  {
   "cell_type": "code",
   "execution_count": 82,
   "id": "2210488a-09c5-4dea-a29e-2d7824eb34b5",
   "metadata": {},
   "outputs": [
    {
     "data": {
      "text/plain": [
       "array([[9, 9, 2],\n",
       "       [2, 3, 1],\n",
       "       [2, 5, 7]])"
      ]
     },
     "execution_count": 82,
     "metadata": {},
     "output_type": "execute_result"
    }
   ],
   "source": [
    "reshape=arr1.reshape(3,3) #reshaping array to 3*3 matrix\n",
    "reshape"
   ]
  },
  {
   "cell_type": "code",
   "execution_count": 84,
   "id": "71a317d9-161d-40d3-9135-50d1c1826ec6",
   "metadata": {},
   "outputs": [
    {
     "name": "stdout",
     "output_type": "stream",
     "text": [
      "[9 9 2 2 3 1 2 5 7]\n"
     ]
    }
   ],
   "source": [
    "print(reshape.ravel())   "
   ]
  },
  {
   "cell_type": "code",
   "execution_count": 85,
   "id": "d0b0dc64-6748-4a7d-95e4-f72555b78b6f",
   "metadata": {},
   "outputs": [],
   "source": [
    "#conactination of arrays"
   ]
  },
  {
   "cell_type": "code",
   "execution_count": 95,
   "id": "a6b77e18-15f1-4aea-801a-b49d9852414f",
   "metadata": {},
   "outputs": [
    {
     "name": "stdout",
     "output_type": "stream",
     "text": [
      "[[1 2]\n",
      " [3 4]\n",
      " [5 6]]\n"
     ]
    }
   ],
   "source": [
    "a=np.array([[1,2],[3,4]])\n",
    "b=np.array([5,6])\n",
    "c=np.vstack((a,b)) #vertical stack\n",
    "print(c)"
   ]
  },
  {
   "cell_type": "code",
   "execution_count": 98,
   "id": "7ed2c6a7-c6be-4c89-b568-a1baa27fffc5",
   "metadata": {},
   "outputs": [
    {
     "name": "stdout",
     "output_type": "stream",
     "text": [
      "[[1 2 3]\n",
      " [5 6 7]]\n"
     ]
    }
   ],
   "source": [
    "a=np.array([1,2,3])\n",
    "b=np.array([5,6,7])\n",
    "c=np.vstack((a,b)) #horizontal stack\n",
    "print(c)"
   ]
  },
  {
   "cell_type": "code",
   "execution_count": 99,
   "id": "8d115fe9-226b-458f-97dd-cb39a38e8280",
   "metadata": {},
   "outputs": [
    {
     "name": "stdout",
     "output_type": "stream",
     "text": [
      "[array([[1],\n",
      "       [3]]), array([[2],\n",
      "       [4]])]\n"
     ]
    }
   ],
   "source": [
    "arr=np.array([[1,2],[3,4]]) #split into 2 parts column wise\n",
    "print(np.split(arr, 2, axis=1)) "
   ]
  },
  {
   "cell_type": "code",
   "execution_count": 100,
   "id": "e43fe912-af8a-4729-88a8-4b1a496b7a59",
   "metadata": {},
   "outputs": [
    {
     "name": "stdout",
     "output_type": "stream",
     "text": [
      "[array([[1, 2]]), array([[3, 4]])]\n"
     ]
    }
   ],
   "source": [
    "arr=np.array([[1,2],[3,4]]) #split into 2 parts array wise\n",
    "print(np.split(arr, 2, axis=0)) "
   ]
  },
  {
   "cell_type": "code",
   "execution_count": 103,
   "id": "5cf08696-ca48-443b-9454-2f76b40cc24e",
   "metadata": {},
   "outputs": [
    {
     "name": "stdout",
     "output_type": "stream",
     "text": [
      "[[0 1 2]\n",
      " [3 4 5]]\n",
      "[[0 3]\n",
      " [1 4]\n",
      " [2 5]]\n"
     ]
    }
   ],
   "source": [
    "arr = np.arange(6).reshape(2, 3)\n",
    "print(arr)\n",
    "print(arr.T)"
   ]
  },
  {
   "cell_type": "code",
   "execution_count": 107,
   "id": "b33217e6-4526-4d72-8176-8fd4c0d1a018",
   "metadata": {},
   "outputs": [],
   "source": [
    "#Matrix Operations and Linear Algebra"
   ]
  },
  {
   "cell_type": "code",
   "execution_count": 108,
   "id": "9d51d1bf-62d9-417d-9e37-7c45f36a4fe4",
   "metadata": {},
   "outputs": [
    {
     "name": "stdout",
     "output_type": "stream",
     "text": [
      "32\n"
     ]
    }
   ],
   "source": [
    "#dot product\n",
    "a = np.array([1, 2, 3])\n",
    "b = np.array([4, 5, 6])\n",
    "print(np.dot(a, b))   # 1*4 + 2*5 + 3*6 = 32"
   ]
  },
  {
   "cell_type": "code",
   "execution_count": 109,
   "id": "7d08b564-f717-4d53-845d-f626e41aa661",
   "metadata": {},
   "outputs": [
    {
     "name": "stdout",
     "output_type": "stream",
     "text": [
      "[[19 22]\n",
      " [43 50]]\n"
     ]
    }
   ],
   "source": [
    "#Matrix Multiplication\n",
    "A = np.array([[1, 2],[3, 4]])\n",
    "B = np.array([[5, 6],[7, 8]])\n",
    "print(np.matmul(A, B))\n",
    "#how it works = 1*5 + 7*2 = 19 "
   ]
  },
  {
   "cell_type": "code",
   "execution_count": 111,
   "id": "6d9b28f8-7984-4919-a00a-b50c779fb77f",
   "metadata": {},
   "outputs": [
    {
     "name": "stdout",
     "output_type": "stream",
     "text": [
      "-2.0000000000000004\n"
     ]
    }
   ],
   "source": [
    "#linear algebra operations\n",
    "print(np.linalg.det(A))   # Determinant of matrix A"
   ]
  },
  {
   "cell_type": "code",
   "execution_count": 112,
   "id": "6bf51edb-77b8-485c-8c87-2fe9a5ec58b7",
   "metadata": {},
   "outputs": [
    {
     "name": "stdout",
     "output_type": "stream",
     "text": [
      "[[-2.   1. ]\n",
      " [ 1.5 -0.5]]\n"
     ]
    }
   ],
   "source": [
    "print(np.linalg.inv(A)) #inverse of matrix A"
   ]
  },
  {
   "cell_type": "code",
   "execution_count": 114,
   "id": "74cbddca-0301-4cde-a219-cb3a3aed4992",
   "metadata": {},
   "outputs": [
    {
     "name": "stdout",
     "output_type": "stream",
     "text": [
      "Eigenvalues: [-0.37228132  5.37228132]\n",
      "Eigenvectors:\n",
      " [[-0.82456484 -0.41597356]\n",
      " [ 0.56576746 -0.90937671]]\n"
     ]
    }
   ],
   "source": [
    "#eigen values and eigen vectors \n",
    "values, vectors = np.linalg.eig(A) \n",
    "print(\"Eigenvalues:\", values)\n",
    "print(\"Eigenvectors:\\n\", vectors)"
   ]
  },
  {
   "cell_type": "code",
   "execution_count": 119,
   "id": "dfa9da96-fd7a-4c57-a7b7-c4d401e2349a",
   "metadata": {},
   "outputs": [
    {
     "name": "stdout",
     "output_type": "stream",
     "text": [
      "X= 2.2\n",
      "Y= 0.2\n"
     ]
    }
   ],
   "source": [
    "#Solve system of equations: 2x + 3y = 5, x – y = 2.\n",
    "A=np.array([[2,3],[1,-1]])\n",
    "B=np.array([5,2])\n",
    "C=np.linalg.solve(A,B)\n",
    "print('X=',C[0])\n",
    "print('Y=',C[1])"
   ]
  },
  {
   "cell_type": "code",
   "execution_count": null,
   "id": "494f7e74-c190-470d-9469-92f321ecfc7a",
   "metadata": {},
   "outputs": [],
   "source": []
  },
  {
   "cell_type": "code",
   "execution_count": null,
   "id": "2b2f95c6-c630-4d02-9f03-4b2c8d5677a1",
   "metadata": {},
   "outputs": [],
   "source": []
  }
 ],
 "metadata": {
  "kernelspec": {
   "display_name": "Python 3 (ipykernel)",
   "language": "python",
   "name": "python3"
  },
  "language_info": {
   "codemirror_mode": {
    "name": "ipython",
    "version": 3
   },
   "file_extension": ".py",
   "mimetype": "text/x-python",
   "name": "python",
   "nbconvert_exporter": "python",
   "pygments_lexer": "ipython3",
   "version": "3.12.4"
  }
 },
 "nbformat": 4,
 "nbformat_minor": 5
}
