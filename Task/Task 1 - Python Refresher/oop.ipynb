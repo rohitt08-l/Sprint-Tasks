{
 "cells": [
  {
   "cell_type": "code",
   "execution_count": 10,
   "id": "1209fe87-fd5e-4f6b-b6a5-a3e1c359bb85",
   "metadata": {},
   "outputs": [
    {
     "name": "stdout",
     "output_type": "stream",
     "text": [
      "Rohit Patil\n"
     ]
    },
    {
     "data": {
      "text/plain": [
       "<__main__.name at 0x27c031fd880>"
      ]
     },
     "execution_count": 10,
     "metadata": {},
     "output_type": "execute_result"
    }
   ],
   "source": [
    "#creating a simple class and object\n",
    "class name:\n",
    "    print('Rohit Patil')\n",
    "x=name()\n",
    "x"
   ]
  },
  {
   "cell_type": "code",
   "execution_count": 7,
   "id": "6809f28b-2561-473d-bcff-5953fda9c3fb",
   "metadata": {},
   "outputs": [
    {
     "name": "stdout",
     "output_type": "stream",
     "text": [
      "Rohit\n",
      "1\n",
      "90\n"
     ]
    }
   ],
   "source": [
    "#creating a class student to display details of student\n",
    "class student:\n",
    "    def __init__(self,name,roll,marks): # here  __init__ is an constructur which is automatically called when an object is created\n",
    "        self.name=name\n",
    "        self.roll=roll  # here these are the instance varibles\n",
    "        self.marks=marks\n",
    "    def display(self): #this is a function display which is called to display the details\n",
    "        print(self.name)\n",
    "        print(self.roll)\n",
    "        print(self.marks)\n",
    "s1=student('Rohit',1,90)\n",
    "s1.display()"
   ]
  },
  {
   "cell_type": "code",
   "execution_count": 9,
   "id": "4a768b1d-0eca-4c9f-aea9-16f8dfb2190a",
   "metadata": {},
   "outputs": [
    {
     "name": "stdout",
     "output_type": "stream",
     "text": [
      "Celero\n",
      "Maruti Suzuki\n",
      "700000\n",
      "Tiago\n",
      "Toyota\n",
      "900000\n"
     ]
    }
   ],
   "source": [
    "class car:\n",
    "    def __init__(self,brand,model,price):\n",
    "        self.brand=brand\n",
    "        self.model=model    \n",
    "        self.price=price\n",
    "    def display(self):\n",
    "        print(self.brand)\n",
    "        print(self.model)\n",
    "        print(self.price)\n",
    "c1=car('Celero','Maruti Suzuki',700000)\n",
    "c1.display()\n",
    "c2=car('Tiago','Toyota',900000)\n",
    "c2.display()"
   ]
  },
  {
   "cell_type": "code",
   "execution_count": 12,
   "id": "c84035aa-e50b-4fa4-8a39-2bf27c035e55",
   "metadata": {},
   "outputs": [
    {
     "name": "stdout",
     "output_type": "stream",
     "text": [
      "Rohit\n",
      "Rohan\n",
      "2\n"
     ]
    }
   ],
   "source": [
    "class Student:\n",
    "    total_students = 0  # Class variable\n",
    "    def __init__(self, name):\n",
    "        self.name = name  # Instance variable\n",
    "        Student.total_students += 1  \n",
    "# Create objects\n",
    "s1 = Student(\"Rohit\")\n",
    "s2 = Student(\"Rohan\")\n",
    "# Accessing instance variables\n",
    "print(s1.name)\n",
    "print(s2.name)\n",
    "# Accessing class variable\n",
    "print(Student.total_students) "
   ]
  },
  {
   "cell_type": "code",
   "execution_count": 13,
   "id": "e155571f-3e34-4f3a-8409-a8bd45c915e6",
   "metadata": {},
   "outputs": [],
   "source": [
    "#Encapsulation"
   ]
  },
  {
   "cell_type": "code",
   "execution_count": 15,
   "id": "226542d1-c4e1-4b3d-a48e-0087ac94c702",
   "metadata": {},
   "outputs": [
    {
     "name": "stdout",
     "output_type": "stream",
     "text": [
      "Rohit\n"
     ]
    }
   ],
   "source": [
    "#public class\n",
    "class Student:\n",
    "    def __init__(self, name):\n",
    "        self.name = name   # public\n",
    "\n",
    "s = Student(\"Rohit\")\n",
    "print(s.name)  "
   ]
  },
  {
   "cell_type": "code",
   "execution_count": 16,
   "id": "45351df9-adb8-4407-9256-20078989678b",
   "metadata": {},
   "outputs": [
    {
     "name": "stdout",
     "output_type": "stream",
     "text": [
      "85\n"
     ]
    }
   ],
   "source": [
    "#protected class [Marked with a single underscore _]\n",
    "class Student:\n",
    "    def __init__(self, name, marks):\n",
    "        self._marks = marks   # protected\n",
    "s = Student(\"Rohit\", 85)\n",
    "print(s._marks)   # Possible, but not recommended"
   ]
  },
  {
   "cell_type": "code",
   "execution_count": 20,
   "id": "4b2aa777-53ca-407c-aff8-5abf3103167d",
   "metadata": {},
   "outputs": [
    {
     "name": "stdout",
     "output_type": "stream",
     "text": [
      "90\n"
     ]
    }
   ],
   "source": [
    "#private class[Marked with a double underscore __]\n",
    "class Student:\n",
    "    def __init__(self, name, marks):\n",
    "        self.__marks = marks   # private\n",
    "\n",
    "s = Student(\"Rohit\", 90)\n",
    "# print(s.__marks) \n",
    "print(s._Student__marks)  #  Can access with name mangling (not recommended)"
   ]
  },
  {
   "cell_type": "code",
   "execution_count": 23,
   "id": "4944b3ee-b3a6-44a0-8f79-d07a1552810c",
   "metadata": {},
   "outputs": [],
   "source": [
    "#Inheritance"
   ]
  },
  {
   "cell_type": "code",
   "execution_count": 25,
   "id": "e48382ba-93eb-4d27-aa41-668a3fa54d75",
   "metadata": {},
   "outputs": [
    {
     "name": "stdout",
     "output_type": "stream",
     "text": [
      "This is a Vehicle\n",
      "This is a Maruti Suzuki car\n"
     ]
    }
   ],
   "source": [
    "#single inheritance\n",
    "class vehicle: #parent class\n",
    "    def show_type(self):\n",
    "        print(\"This is a Vehicle\")\n",
    "class car(vehicle): #child class\n",
    "    def show_brand(self):\n",
    "        print(\"This is a Maruti Suzuki car\")\n",
    "c=car()\n",
    "c.show_type() #inherited from vehicle\n",
    "c.show_brand() #defined in car"
   ]
  },
  {
   "cell_type": "code",
   "execution_count": 28,
   "id": "baa465c0-d3ab-463d-ae35-ab57bfc5e0fd",
   "metadata": {},
   "outputs": [
    {
     "name": "stdout",
     "output_type": "stream",
     "text": [
      "This is a Vehicle\n",
      "This is a Maruti Suzuki car\n",
      "Price is 900000\n"
     ]
    }
   ],
   "source": [
    "#multilevel inheritance\n",
    "class vehicle: #grandparent class\n",
    "    def show_type(self):\n",
    "        print(\"This is a Vehicle\")\n",
    "class car(vehicle): #parent class\n",
    "    def show_brand(self):\n",
    "        print(\"This is a Maruti Suzuki car\")\n",
    "class price(car): #child class\n",
    "    def show_price(self):\n",
    "        print(\"Price is 900000\")\n",
    "p=price()\n",
    "p.show_type() #inherited from vehicle\n",
    "p.show_brand() #defined in car\n",
    "p.show_price()"
   ]
  },
  {
   "cell_type": "code",
   "execution_count": 30,
   "id": "52ec55b7-bc93-409d-bc0c-4e0f5bbdaa60",
   "metadata": {},
   "outputs": [
    {
     "name": "stdout",
     "output_type": "stream",
     "text": [
      "This is a Teacher \n",
      "This is a Coach \n",
      "This is a Mentor \n"
     ]
    }
   ],
   "source": [
    "#multiple inheritance\n",
    "class teacher:\n",
    "    def teach(self):\n",
    "        print(\"This is a Teacher \")\n",
    "class coach:\n",
    "    def coach(self):\n",
    "        print(\"This is a Coach \")\n",
    "class mentor(teacher,coach):\n",
    "    def mentor(self):\n",
    "        print(\"This is a Mentor \")\n",
    "m=mentor()\n",
    "m.teach()\n",
    "m.coach()\n",
    "m.mentor()"
   ]
  },
  {
   "cell_type": "code",
   "execution_count": 31,
   "id": "b8476743-3a2d-400c-842e-c719609965d8",
   "metadata": {},
   "outputs": [
    {
     "name": "stdout",
     "output_type": "stream",
     "text": [
      "This is a Vehicle\n",
      "This is a Maruti Suzuki car\n"
     ]
    }
   ],
   "source": [
    "#super class\n",
    "class Vehicle:\n",
    "    def __init__(self, type_name):\n",
    "        self.type_name = type_name\n",
    "    def show_type(self):\n",
    "        print(f\"This is a {self.type_name}\")\n",
    "# Child class\n",
    "class Car(Vehicle):\n",
    "    def __init__(self, type_name, brand):\n",
    "        # Call the parent class constructor\n",
    "        super().__init__(type_name)\n",
    "        self.brand = brand\n",
    "    def show_brand(self):\n",
    "        print(f\"This is a {self.brand} car\")\n",
    "# Create object\n",
    "c = Car(\"Vehicle\", \"Maruti Suzuki\")\n",
    "c.show_type()   # from Vehicle (superclass)\n",
    "c.show_brand()  # from Car (child class)"
   ]
  },
  {
   "cell_type": "code",
   "execution_count": 32,
   "id": "e143e73d-f9b3-4bc8-af92-b1e8d32836cf",
   "metadata": {},
   "outputs": [],
   "source": [
    "#polymorphism"
   ]
  },
  {
   "cell_type": "code",
   "execution_count": 34,
   "id": "6ca6a06d-2581-416a-82e9-a98e02d679ad",
   "metadata": {},
   "outputs": [
    {
     "name": "stdout",
     "output_type": "stream",
     "text": [
      "Animal makes a sound\n",
      "Dog barks: Woof Woof!\n",
      "Cat meows: Meow!\n"
     ]
    }
   ],
   "source": [
    "#Method Overriding\n",
    "class Animal:\n",
    "    def speak(self):\n",
    "        print(\"Animal makes a sound\")\n",
    "class Dog(Animal):\n",
    "    def speak(self):   # overriding parent method\n",
    "        print(\"Dog barks: Woof Woof!\")\n",
    "class Cat(Animal):\n",
    "    def speak(self):\n",
    "        print(\"Cat meows: Meow!\")\n",
    "a = Animal()\n",
    "d = Dog()\n",
    "c = Cat()\n",
    "a.speak()  \n",
    "d.speak()  \n",
    "c.speak()"
   ]
  },
  {
   "cell_type": "code",
   "execution_count": 35,
   "id": "22aaf68c-c999-4e9e-9fd1-55719ba63bad",
   "metadata": {},
   "outputs": [
    {
     "name": "stdout",
     "output_type": "stream",
     "text": [
      "5\n",
      "15\n",
      "35\n"
     ]
    }
   ],
   "source": [
    "#method overloading \n",
    "class Math:\n",
    "    def add(self, *args):\n",
    "        return sum(args)\n",
    "\n",
    "m = Math()\n",
    "print(m.add(5))           \n",
    "print(m.add(5, 10))       \n",
    "print(m.add(5, 10, 20))  "
   ]
  },
  {
   "cell_type": "code",
   "execution_count": 36,
   "id": "16bc11db-9043-4c0a-832b-344ea49c0f2b",
   "metadata": {},
   "outputs": [
    {
     "name": "stdout",
     "output_type": "stream",
     "text": [
      "175\n",
      "Student: Rohit, Marks: 85\n"
     ]
    }
   ],
   "source": [
    "#operator overloading\n",
    "class Student:\n",
    "    def __init__(self, name, marks):\n",
    "        self.name = name\n",
    "        self.marks = marks\n",
    "    # Overload + operator to add marks\n",
    "    def __add__(self, other):\n",
    "        return self.marks + other.marks\n",
    "    # Overload str() to print object nicely\n",
    "    def __str__(self):\n",
    "        return f\"Student: {self.name}, Marks: {self.marks}\"\n",
    "s1 = Student(\"Rohit\", 85)\n",
    "s2 = Student(\"Rohan\", 90)\n",
    "print(s1 + s2)      \n",
    "print(s1)           \n"
   ]
  },
  {
   "cell_type": "code",
   "execution_count": null,
   "id": "5b5ef077-128c-4ce3-b85a-5f48b25c9532",
   "metadata": {},
   "outputs": [],
   "source": []
  }
 ],
 "metadata": {
  "kernelspec": {
   "display_name": "Python 3 (ipykernel)",
   "language": "python",
   "name": "python3"
  },
  "language_info": {
   "codemirror_mode": {
    "name": "ipython",
    "version": 3
   },
   "file_extension": ".py",
   "mimetype": "text/x-python",
   "name": "python",
   "nbconvert_exporter": "python",
   "pygments_lexer": "ipython3",
   "version": "3.12.4"
  }
 },
 "nbformat": 4,
 "nbformat_minor": 5
}
