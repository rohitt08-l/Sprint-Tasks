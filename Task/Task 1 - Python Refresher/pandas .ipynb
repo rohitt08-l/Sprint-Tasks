{
 "cells": [
  {
   "cell_type": "code",
   "execution_count": 58,
   "id": "a72ac434-d4b1-4384-b318-da7f4b6d8b90",
   "metadata": {},
   "outputs": [],
   "source": [
    "import pandas as pd"
   ]
  },
  {
   "cell_type": "code",
   "execution_count": 59,
   "id": "50e844f5-0b38-49cf-9146-828c3898254e",
   "metadata": {},
   "outputs": [],
   "source": [
    "#Reading an files using pandas \n",
    "#1 CSV - pd.read_csv('file.csv')\n",
    "#2 Excel - df = pd.read_excel(\"file.xlsx\", sheet_name=\"Sheet1\")\n",
    "#3 SQL - conn =   sqlite3.connect(\"mydatabase.db\") \n",
    "                # df = pd.read_sql(\"SELECT * FROM mytable\", conn)\n",
    "#4 Javascrpit - df = pd.read_json(\"file.json\")   "
   ]
  },
  {
   "cell_type": "code",
   "execution_count": 60,
   "id": "93b8e36c-571e-4c4d-b645-ba03f63b349d",
   "metadata": {},
   "outputs": [],
   "source": [
    "#Series"
   ]
  },
  {
   "cell_type": "code",
   "execution_count": 61,
   "id": "4d64f7aa-9995-4018-9f8b-c9058ed39d5f",
   "metadata": {},
   "outputs": [
    {
     "data": {
      "text/plain": [
       "0    31\n",
       "1    32\n",
       "2     3\n",
       "3     1\n",
       "4    67\n",
       "dtype: int64"
      ]
     },
     "execution_count": 61,
     "metadata": {},
     "output_type": "execute_result"
    }
   ],
   "source": [
    "#creating a series from list\n",
    "s1=pd.Series([31,32,3,1,67])\n",
    "s1"
   ]
  },
  {
   "cell_type": "code",
   "execution_count": 62,
   "id": "5f9823bd-8a08-43c3-9a17-411c94076cb9",
   "metadata": {},
   "outputs": [
    {
     "data": {
      "text/plain": [
       "a    31\n",
       "b    32\n",
       "c     3\n",
       "d     1\n",
       "e    67\n",
       "dtype: int64"
      ]
     },
     "execution_count": 62,
     "metadata": {},
     "output_type": "execute_result"
    }
   ],
   "source": [
    "#creating a series with index\n",
    "s2=pd.Series([31,32,3,1,67],index=['a','b','c','d','e'])\n",
    "s2"
   ]
  },
  {
   "cell_type": "code",
   "execution_count": 63,
   "id": "d836213c-ee84-4cf8-99a1-f8bfa45dc03c",
   "metadata": {},
   "outputs": [
    {
     "data": {
      "text/plain": [
       "a    100\n",
       "b    200\n",
       "c    300\n",
       "dtype: int64"
      ]
     },
     "execution_count": 63,
     "metadata": {},
     "output_type": "execute_result"
    }
   ],
   "source": [
    "# Creating a series From dictionary\n",
    "s3= pd.Series({'a': 100, 'b': 200, 'c': 300})\n",
    "s3"
   ]
  },
  {
   "cell_type": "code",
   "execution_count": 64,
   "id": "5733ae0a-5367-4c60-a05b-d44344ccb7e0",
   "metadata": {},
   "outputs": [],
   "source": [
    "#DataFrame"
   ]
  },
  {
   "cell_type": "code",
   "execution_count": 65,
   "id": "e502572c-32f9-40aa-a1a0-6e59df98b5f3",
   "metadata": {},
   "outputs": [
    {
     "data": {
      "text/html": [
       "<div>\n",
       "<style scoped>\n",
       "    .dataframe tbody tr th:only-of-type {\n",
       "        vertical-align: middle;\n",
       "    }\n",
       "\n",
       "    .dataframe tbody tr th {\n",
       "        vertical-align: top;\n",
       "    }\n",
       "\n",
       "    .dataframe thead th {\n",
       "        text-align: right;\n",
       "    }\n",
       "</style>\n",
       "<table border=\"1\" class=\"dataframe\">\n",
       "  <thead>\n",
       "    <tr style=\"text-align: right;\">\n",
       "      <th></th>\n",
       "      <th>Name</th>\n",
       "      <th>Age</th>\n",
       "    </tr>\n",
       "  </thead>\n",
       "  <tbody>\n",
       "    <tr>\n",
       "      <th>0</th>\n",
       "      <td>A</td>\n",
       "      <td>17</td>\n",
       "    </tr>\n",
       "    <tr>\n",
       "      <th>1</th>\n",
       "      <td>B</td>\n",
       "      <td>16</td>\n",
       "    </tr>\n",
       "    <tr>\n",
       "      <th>2</th>\n",
       "      <td>C</td>\n",
       "      <td>20</td>\n",
       "    </tr>\n",
       "    <tr>\n",
       "      <th>3</th>\n",
       "      <td>D</td>\n",
       "      <td>21</td>\n",
       "    </tr>\n",
       "    <tr>\n",
       "      <th>4</th>\n",
       "      <td>E</td>\n",
       "      <td>22</td>\n",
       "    </tr>\n",
       "  </tbody>\n",
       "</table>\n",
       "</div>"
      ],
      "text/plain": [
       "  Name  Age\n",
       "0    A   17\n",
       "1    B   16\n",
       "2    C   20\n",
       "3    D   21\n",
       "4    E   22"
      ]
     },
     "execution_count": 65,
     "metadata": {},
     "output_type": "execute_result"
    }
   ],
   "source": [
    "data={\n",
    "    'Name':['A','B','C','D','E'],\n",
    "    'Age':[17,16,20,21,22],\n",
    "}\n",
    "df=pd.DataFrame(data)\n",
    "df"
   ]
  },
  {
   "cell_type": "code",
   "execution_count": 66,
   "id": "5608d58e-36e6-4a98-b6af-22b9b99578f3",
   "metadata": {},
   "outputs": [],
   "source": [
    "#Basic Operations"
   ]
  },
  {
   "cell_type": "code",
   "execution_count": 67,
   "id": "635b89ae-8aa2-4051-ab82-0a41becd12c6",
   "metadata": {},
   "outputs": [
    {
     "name": "stdout",
     "output_type": "stream",
     "text": [
      "Data Types : \n",
      " Name    object\n",
      "Age      int64\n",
      "dtype: object\n"
     ]
    }
   ],
   "source": [
    "print('Data Types : \\n',df.dtypes) #data types of all columnc"
   ]
  },
  {
   "cell_type": "code",
   "execution_count": 68,
   "id": "3b342a58-f4a9-4e97-9c8d-777bb4cc08a3",
   "metadata": {},
   "outputs": [
    {
     "name": "stdout",
     "output_type": "stream",
     "text": [
      "Size : 10\n"
     ]
    }
   ],
   "source": [
    "print('Size :',df.size) # size i.e total elments"
   ]
  },
  {
   "cell_type": "code",
   "execution_count": 69,
   "id": "52a27086-83cb-41cb-a9ee-bc5ec1ae24d8",
   "metadata": {},
   "outputs": [
    {
     "name": "stdout",
     "output_type": "stream",
     "text": [
      "Shape : (5, 2)\n"
     ]
    }
   ],
   "source": [
    "print('Shape :',df.shape) #shape i.e rows ,columns"
   ]
  },
  {
   "cell_type": "code",
   "execution_count": 70,
   "id": "1ef1f34c-b054-4c83-a697-69b4e493bd2f",
   "metadata": {},
   "outputs": [
    {
     "name": "stdout",
     "output_type": "stream",
     "text": [
      "Index info : RangeIndex(start=0, stop=5, step=1)\n"
     ]
    }
   ],
   "source": [
    "print('Index info :',df.index) "
   ]
  },
  {
   "cell_type": "code",
   "execution_count": 71,
   "id": "5187fb4c-a362-4b18-b01e-38af42557693",
   "metadata": {},
   "outputs": [
    {
     "name": "stdout",
     "output_type": "stream",
     "text": [
      "<class 'pandas.core.frame.DataFrame'>\n",
      "RangeIndex: 5 entries, 0 to 4\n",
      "Data columns (total 2 columns):\n",
      " #   Column  Non-Null Count  Dtype \n",
      "---  ------  --------------  ----- \n",
      " 0   Name    5 non-null      object\n",
      " 1   Age     5 non-null      int64 \n",
      "dtypes: int64(1), object(1)\n",
      "memory usage: 212.0+ bytes\n",
      "None\n"
     ]
    }
   ],
   "source": [
    "print(df.info())     # Summary of DataFrame"
   ]
  },
  {
   "cell_type": "code",
   "execution_count": 72,
   "id": "5be85c78-c701-4afa-a879-7656ba8f5df7",
   "metadata": {},
   "outputs": [
    {
     "name": "stdout",
     "output_type": "stream",
     "text": [
      "             Age\n",
      "count   5.000000\n",
      "mean   19.200000\n",
      "std     2.588436\n",
      "min    16.000000\n",
      "25%    17.000000\n",
      "50%    20.000000\n",
      "75%    21.000000\n",
      "max    22.000000\n"
     ]
    }
   ],
   "source": [
    "print(df.describe()) # Stats (for numeric columns)"
   ]
  },
  {
   "cell_type": "code",
   "execution_count": 73,
   "id": "f32526e6-0638-4124-9f07-590b2ef2c28e",
   "metadata": {},
   "outputs": [],
   "source": [
    "#Indexing and Selection"
   ]
  },
  {
   "cell_type": "code",
   "execution_count": 74,
   "id": "0edeb612-9df5-4eea-b7a7-74b5525a5072",
   "metadata": {},
   "outputs": [],
   "source": [
    "#loc[] → label-based selection (uses row/column names)\n",
    "#iloc[] → position-based selection (uses row/column numbers)"
   ]
  },
  {
   "cell_type": "code",
   "execution_count": 75,
   "id": "10e9464d-8a54-44ab-8de9-84a5ca88292b",
   "metadata": {},
   "outputs": [
    {
     "name": "stdout",
     "output_type": "stream",
     "text": [
      "Name     A\n",
      "Age     17\n",
      "Name: 0, dtype: object\n"
     ]
    }
   ],
   "source": [
    "# Using loc (labels)\n",
    "print(df.loc[0])              # Row with index 0"
   ]
  },
  {
   "cell_type": "code",
   "execution_count": 76,
   "id": "da128f04-68ff-4f2f-b9f9-54178e4f1b89",
   "metadata": {},
   "outputs": [
    {
     "name": "stdout",
     "output_type": "stream",
     "text": [
      "  Name\n",
      "0    A\n",
      "1    B\n",
      "2    C\n"
     ]
    }
   ],
   "source": [
    "print(df.loc[0:2, [\"Name\"]])  # First 3 rows, only \"Name\" colu"
   ]
  },
  {
   "cell_type": "code",
   "execution_count": 77,
   "id": "1bec5a66-3dfa-41a0-9d57-3f399741e7d8",
   "metadata": {},
   "outputs": [
    {
     "name": "stdout",
     "output_type": "stream",
     "text": [
      "Name     A\n",
      "Age     17\n",
      "Name: 0, dtype: object\n"
     ]
    }
   ],
   "source": [
    "# Using iloc (positions)\n",
    "print(df.iloc[0])             # First row"
   ]
  },
  {
   "cell_type": "code",
   "execution_count": 78,
   "id": "0f3abd2b-b61f-413f-8ac4-f6726458ae3d",
   "metadata": {},
   "outputs": [
    {
     "name": "stdout",
     "output_type": "stream",
     "text": [
      "  Name  Age\n",
      "0    A   17\n",
      "1    B   16\n"
     ]
    }
   ],
   "source": [
    "print(df.iloc[0:2, 0:2])      # First 2 rows, first 2 columns"
   ]
  },
  {
   "cell_type": "code",
   "execution_count": 79,
   "id": "6f666a15-37da-4d78-9511-95906793cf26",
   "metadata": {},
   "outputs": [
    {
     "name": "stdout",
     "output_type": "stream",
     "text": [
      "0    A\n",
      "1    B\n",
      "2    C\n",
      "3    D\n",
      "4    E\n",
      "Name: Name, dtype: object\n"
     ]
    }
   ],
   "source": [
    "# Selecting a single column\n",
    "print(df[\"Name\"])      # Series"
   ]
  },
  {
   "cell_type": "code",
   "execution_count": 80,
   "id": "49e0befb-a036-48fe-a9b7-c82f5d3b054d",
   "metadata": {},
   "outputs": [
    {
     "name": "stdout",
     "output_type": "stream",
     "text": [
      "  Name  Age\n",
      "0    A   17\n",
      "1    B   16\n",
      "2    C   20\n",
      "3    D   21\n",
      "4    E   22\n"
     ]
    }
   ],
   "source": [
    "print(df[[\"Name\", \"Age\"]])  # Multiple columns as DataFrame"
   ]
  },
  {
   "cell_type": "code",
   "execution_count": 81,
   "id": "ca46a019-ae69-4ffe-ae24-25f307793e9c",
   "metadata": {},
   "outputs": [],
   "source": [
    "#Slicing"
   ]
  },
  {
   "cell_type": "code",
   "execution_count": 82,
   "id": "2bef5879-e7e9-4fb0-b25d-5dc107562ee4",
   "metadata": {},
   "outputs": [
    {
     "name": "stdout",
     "output_type": "stream",
     "text": [
      "  Name  Age\n",
      "0    A   17\n",
      "1    B   16\n",
      "  Name  Age\n",
      "1    B   16\n",
      "2    C   20\n",
      "3    D   21\n",
      "4    E   22\n"
     ]
    }
   ],
   "source": [
    "print(df[0:2])   # First 2 rows\n",
    "print(df[1:])    # All rows except first"
   ]
  },
  {
   "cell_type": "code",
   "execution_count": 83,
   "id": "74cf11f2-7f48-491f-8336-5dac813ae8d1",
   "metadata": {},
   "outputs": [
    {
     "data": {
      "text/html": [
       "<div>\n",
       "<style scoped>\n",
       "    .dataframe tbody tr th:only-of-type {\n",
       "        vertical-align: middle;\n",
       "    }\n",
       "\n",
       "    .dataframe tbody tr th {\n",
       "        vertical-align: top;\n",
       "    }\n",
       "\n",
       "    .dataframe thead th {\n",
       "        text-align: right;\n",
       "    }\n",
       "</style>\n",
       "<table border=\"1\" class=\"dataframe\">\n",
       "  <thead>\n",
       "    <tr style=\"text-align: right;\">\n",
       "      <th></th>\n",
       "      <th>Name</th>\n",
       "      <th>Age</th>\n",
       "      <th>Salary</th>\n",
       "    </tr>\n",
       "  </thead>\n",
       "  <tbody>\n",
       "    <tr>\n",
       "      <th>0</th>\n",
       "      <td>A</td>\n",
       "      <td>17</td>\n",
       "      <td>10000</td>\n",
       "    </tr>\n",
       "    <tr>\n",
       "      <th>1</th>\n",
       "      <td>B</td>\n",
       "      <td>16</td>\n",
       "      <td>17000</td>\n",
       "    </tr>\n",
       "    <tr>\n",
       "      <th>2</th>\n",
       "      <td>C</td>\n",
       "      <td>20</td>\n",
       "      <td>18000</td>\n",
       "    </tr>\n",
       "    <tr>\n",
       "      <th>3</th>\n",
       "      <td>D</td>\n",
       "      <td>21</td>\n",
       "      <td>10000</td>\n",
       "    </tr>\n",
       "    <tr>\n",
       "      <th>4</th>\n",
       "      <td>E</td>\n",
       "      <td>22</td>\n",
       "      <td>20000</td>\n",
       "    </tr>\n",
       "  </tbody>\n",
       "</table>\n",
       "</div>"
      ],
      "text/plain": [
       "  Name  Age  Salary\n",
       "0    A   17   10000\n",
       "1    B   16   17000\n",
       "2    C   20   18000\n",
       "3    D   21   10000\n",
       "4    E   22   20000"
      ]
     },
     "execution_count": 83,
     "metadata": {},
     "output_type": "execute_result"
    }
   ],
   "source": [
    "#Adding column \n",
    "df['Salary']=[10000,17000,18000,10000,20000]\n",
    "df"
   ]
  },
  {
   "cell_type": "code",
   "execution_count": 84,
   "id": "d9265e8d-e873-4ad8-8b5f-a6ce37f410f2",
   "metadata": {},
   "outputs": [
    {
     "data": {
      "text/html": [
       "<div>\n",
       "<style scoped>\n",
       "    .dataframe tbody tr th:only-of-type {\n",
       "        vertical-align: middle;\n",
       "    }\n",
       "\n",
       "    .dataframe tbody tr th {\n",
       "        vertical-align: top;\n",
       "    }\n",
       "\n",
       "    .dataframe thead th {\n",
       "        text-align: right;\n",
       "    }\n",
       "</style>\n",
       "<table border=\"1\" class=\"dataframe\">\n",
       "  <thead>\n",
       "    <tr style=\"text-align: right;\">\n",
       "      <th></th>\n",
       "      <th>Full_Name</th>\n",
       "      <th>Years</th>\n",
       "      <th>Monthly Salary</th>\n",
       "    </tr>\n",
       "  </thead>\n",
       "  <tbody>\n",
       "    <tr>\n",
       "      <th>0</th>\n",
       "      <td>A</td>\n",
       "      <td>17</td>\n",
       "      <td>10000</td>\n",
       "    </tr>\n",
       "    <tr>\n",
       "      <th>1</th>\n",
       "      <td>B</td>\n",
       "      <td>16</td>\n",
       "      <td>17000</td>\n",
       "    </tr>\n",
       "    <tr>\n",
       "      <th>2</th>\n",
       "      <td>C</td>\n",
       "      <td>20</td>\n",
       "      <td>18000</td>\n",
       "    </tr>\n",
       "    <tr>\n",
       "      <th>3</th>\n",
       "      <td>D</td>\n",
       "      <td>21</td>\n",
       "      <td>10000</td>\n",
       "    </tr>\n",
       "    <tr>\n",
       "      <th>4</th>\n",
       "      <td>E</td>\n",
       "      <td>22</td>\n",
       "      <td>20000</td>\n",
       "    </tr>\n",
       "  </tbody>\n",
       "</table>\n",
       "</div>"
      ],
      "text/plain": [
       "  Full_Name  Years  Monthly Salary\n",
       "0         A     17           10000\n",
       "1         B     16           17000\n",
       "2         C     20           18000\n",
       "3         D     21           10000\n",
       "4         E     22           20000"
      ]
     },
     "execution_count": 84,
     "metadata": {},
     "output_type": "execute_result"
    }
   ],
   "source": [
    "# Renaming columns\n",
    "df = df.rename(columns={\"Name\": \"Full_Name\", \"Age\": \"Years\",'Salary':'Monthly Salary'})\n",
    "df"
   ]
  },
  {
   "cell_type": "code",
   "execution_count": 85,
   "id": "22d82834-591f-40b7-809b-ed3f40e2a0fd",
   "metadata": {},
   "outputs": [
    {
     "data": {
      "text/html": [
       "<div>\n",
       "<style scoped>\n",
       "    .dataframe tbody tr th:only-of-type {\n",
       "        vertical-align: middle;\n",
       "    }\n",
       "\n",
       "    .dataframe tbody tr th {\n",
       "        vertical-align: top;\n",
       "    }\n",
       "\n",
       "    .dataframe thead th {\n",
       "        text-align: right;\n",
       "    }\n",
       "</style>\n",
       "<table border=\"1\" class=\"dataframe\">\n",
       "  <thead>\n",
       "    <tr style=\"text-align: right;\">\n",
       "      <th></th>\n",
       "      <th>Name</th>\n",
       "      <th>Age</th>\n",
       "      <th>Salary</th>\n",
       "    </tr>\n",
       "  </thead>\n",
       "  <tbody>\n",
       "    <tr>\n",
       "      <th>0</th>\n",
       "      <td>A</td>\n",
       "      <td>17</td>\n",
       "      <td>10000</td>\n",
       "    </tr>\n",
       "    <tr>\n",
       "      <th>1</th>\n",
       "      <td>B</td>\n",
       "      <td>16</td>\n",
       "      <td>17000</td>\n",
       "    </tr>\n",
       "    <tr>\n",
       "      <th>2</th>\n",
       "      <td>C</td>\n",
       "      <td>20</td>\n",
       "      <td>18000</td>\n",
       "    </tr>\n",
       "    <tr>\n",
       "      <th>3</th>\n",
       "      <td>D</td>\n",
       "      <td>21</td>\n",
       "      <td>10000</td>\n",
       "    </tr>\n",
       "    <tr>\n",
       "      <th>4</th>\n",
       "      <td>E</td>\n",
       "      <td>22</td>\n",
       "      <td>20000</td>\n",
       "    </tr>\n",
       "  </tbody>\n",
       "</table>\n",
       "</div>"
      ],
      "text/plain": [
       "  Name  Age  Salary\n",
       "0    A   17   10000\n",
       "1    B   16   17000\n",
       "2    C   20   18000\n",
       "3    D   21   10000\n",
       "4    E   22   20000"
      ]
     },
     "execution_count": 85,
     "metadata": {},
     "output_type": "execute_result"
    }
   ],
   "source": [
    "df=df.rename(columns={ \"Full_Name\":\"Name\", \"Years\" : \"Age\" ,'Monthly Salary':'Salary'})\n",
    "df"
   ]
  },
  {
   "cell_type": "code",
   "execution_count": 86,
   "id": "a9b743c7-2d16-4281-811b-20516064960e",
   "metadata": {},
   "outputs": [],
   "source": [
    "#dropping column\n",
    "#df=df.drop(columns=['Salary'])"
   ]
  },
  {
   "cell_type": "code",
   "execution_count": 87,
   "id": "99619547-c74d-4dd7-b7af-804723418f4b",
   "metadata": {},
   "outputs": [
    {
     "name": "stdout",
     "output_type": "stream",
     "text": [
      "  Name  Age  Salary\n",
      "0    A   17   10000\n",
      "3    D   21   10000\n",
      "1    B   16   17000\n",
      "2    C   20   18000\n",
      "4    E   22   20000\n",
      "  Name  Age  Salary\n",
      "4    E   22   20000\n",
      "3    D   21   10000\n",
      "2    C   20   18000\n",
      "0    A   17   10000\n",
      "1    B   16   17000\n"
     ]
    }
   ],
   "source": [
    "#sorting\n",
    "# Sort by Salary (ascending)\n",
    "print(df.sort_values(by=\"Salary\"))\n",
    "\n",
    "# Sort by Age (descending)\n",
    "print(df.sort_values(by=\"Age\", ascending=False))"
   ]
  },
  {
   "cell_type": "code",
   "execution_count": 88,
   "id": "5d405659-05ed-4b42-8518-51960a3ce384",
   "metadata": {},
   "outputs": [],
   "source": [
    "#Lambda function in pandas"
   ]
  },
  {
   "cell_type": "code",
   "execution_count": 90,
   "id": "3447613f-866f-439e-bd30-fe174e67a549",
   "metadata": {},
   "outputs": [
    {
     "data": {
      "text/html": [
       "<div>\n",
       "<style scoped>\n",
       "    .dataframe tbody tr th:only-of-type {\n",
       "        vertical-align: middle;\n",
       "    }\n",
       "\n",
       "    .dataframe tbody tr th {\n",
       "        vertical-align: top;\n",
       "    }\n",
       "\n",
       "    .dataframe thead th {\n",
       "        text-align: right;\n",
       "    }\n",
       "</style>\n",
       "<table border=\"1\" class=\"dataframe\">\n",
       "  <thead>\n",
       "    <tr style=\"text-align: right;\">\n",
       "      <th></th>\n",
       "      <th>Name</th>\n",
       "      <th>Age</th>\n",
       "      <th>Salary</th>\n",
       "      <th>Updated_Salary</th>\n",
       "    </tr>\n",
       "  </thead>\n",
       "  <tbody>\n",
       "    <tr>\n",
       "      <th>0</th>\n",
       "      <td>A</td>\n",
       "      <td>17</td>\n",
       "      <td>10000</td>\n",
       "      <td>11000.0</td>\n",
       "    </tr>\n",
       "    <tr>\n",
       "      <th>1</th>\n",
       "      <td>B</td>\n",
       "      <td>16</td>\n",
       "      <td>17000</td>\n",
       "      <td>18700.0</td>\n",
       "    </tr>\n",
       "    <tr>\n",
       "      <th>2</th>\n",
       "      <td>C</td>\n",
       "      <td>20</td>\n",
       "      <td>18000</td>\n",
       "      <td>19800.0</td>\n",
       "    </tr>\n",
       "    <tr>\n",
       "      <th>3</th>\n",
       "      <td>D</td>\n",
       "      <td>21</td>\n",
       "      <td>10000</td>\n",
       "      <td>11000.0</td>\n",
       "    </tr>\n",
       "    <tr>\n",
       "      <th>4</th>\n",
       "      <td>E</td>\n",
       "      <td>22</td>\n",
       "      <td>20000</td>\n",
       "      <td>22000.0</td>\n",
       "    </tr>\n",
       "  </tbody>\n",
       "</table>\n",
       "</div>"
      ],
      "text/plain": [
       "  Name  Age  Salary  Updated_Salary\n",
       "0    A   17   10000         11000.0\n",
       "1    B   16   17000         18700.0\n",
       "2    C   20   18000         19800.0\n",
       "3    D   21   10000         11000.0\n",
       "4    E   22   20000         22000.0"
      ]
     },
     "execution_count": 90,
     "metadata": {},
     "output_type": "execute_result"
    }
   ],
   "source": [
    "# Increase salary by 10%\n",
    "df[\"Updated_Salary\"] = df[\"Salary\"].apply(lambda x: x * 1.1)\n",
    "df"
   ]
  },
  {
   "cell_type": "code",
   "execution_count": 92,
   "id": "3edd31aa-37f0-473a-a5e8-48098d932b77",
   "metadata": {},
   "outputs": [
    {
     "data": {
      "text/html": [
       "<div>\n",
       "<style scoped>\n",
       "    .dataframe tbody tr th:only-of-type {\n",
       "        vertical-align: middle;\n",
       "    }\n",
       "\n",
       "    .dataframe tbody tr th {\n",
       "        vertical-align: top;\n",
       "    }\n",
       "\n",
       "    .dataframe thead th {\n",
       "        text-align: right;\n",
       "    }\n",
       "</style>\n",
       "<table border=\"1\" class=\"dataframe\">\n",
       "  <thead>\n",
       "    <tr style=\"text-align: right;\">\n",
       "      <th></th>\n",
       "      <th>Name</th>\n",
       "      <th>Age</th>\n",
       "      <th>Salary</th>\n",
       "      <th>Updated_Salary</th>\n",
       "      <th>Category</th>\n",
       "    </tr>\n",
       "  </thead>\n",
       "  <tbody>\n",
       "    <tr>\n",
       "      <th>0</th>\n",
       "      <td>A</td>\n",
       "      <td>17</td>\n",
       "      <td>10000</td>\n",
       "      <td>11000.0</td>\n",
       "      <td>Junior</td>\n",
       "    </tr>\n",
       "    <tr>\n",
       "      <th>1</th>\n",
       "      <td>B</td>\n",
       "      <td>16</td>\n",
       "      <td>17000</td>\n",
       "      <td>18700.0</td>\n",
       "      <td>Junior</td>\n",
       "    </tr>\n",
       "    <tr>\n",
       "      <th>2</th>\n",
       "      <td>C</td>\n",
       "      <td>20</td>\n",
       "      <td>18000</td>\n",
       "      <td>19800.0</td>\n",
       "      <td>Junior</td>\n",
       "    </tr>\n",
       "    <tr>\n",
       "      <th>3</th>\n",
       "      <td>D</td>\n",
       "      <td>21</td>\n",
       "      <td>10000</td>\n",
       "      <td>11000.0</td>\n",
       "      <td>Senior</td>\n",
       "    </tr>\n",
       "    <tr>\n",
       "      <th>4</th>\n",
       "      <td>E</td>\n",
       "      <td>22</td>\n",
       "      <td>20000</td>\n",
       "      <td>22000.0</td>\n",
       "      <td>Senior</td>\n",
       "    </tr>\n",
       "  </tbody>\n",
       "</table>\n",
       "</div>"
      ],
      "text/plain": [
       "  Name  Age  Salary  Updated_Salary Category\n",
       "0    A   17   10000         11000.0   Junior\n",
       "1    B   16   17000         18700.0   Junior\n",
       "2    C   20   18000         19800.0   Junior\n",
       "3    D   21   10000         11000.0   Senior\n",
       "4    E   22   20000         22000.0   Senior"
      ]
     },
     "execution_count": 92,
     "metadata": {},
     "output_type": "execute_result"
    }
   ],
   "source": [
    "# Tag employees as \"Senior\" if Age > 30 else \"Junior\"\n",
    "df[\"Category\"] = df[\"Age\"].apply(lambda x: \"Senior\" if x > 20 else \"Junior\")\n",
    "df"
   ]
  },
  {
   "cell_type": "code",
   "execution_count": null,
   "id": "44ab4a97-79ee-46ce-9508-ebf9022dafd4",
   "metadata": {},
   "outputs": [],
   "source": []
  }
 ],
 "metadata": {
  "kernelspec": {
   "display_name": "Python 3 (ipykernel)",
   "language": "python",
   "name": "python3"
  },
  "language_info": {
   "codemirror_mode": {
    "name": "ipython",
    "version": 3
   },
   "file_extension": ".py",
   "mimetype": "text/x-python",
   "name": "python",
   "nbconvert_exporter": "python",
   "pygments_lexer": "ipython3",
   "version": "3.12.4"
  }
 },
 "nbformat": 4,
 "nbformat_minor": 5
}
