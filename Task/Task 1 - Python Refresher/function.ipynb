{
 "cells": [
  {
   "cell_type": "markdown",
   "id": "077711ee-eb05-4606-be01-5b07caa4d088",
   "metadata": {},
   "source": [
    "1]Functions"
   ]
  },
  {
   "cell_type": "code",
   "execution_count": 1,
   "id": "1ac8ef2c-d515-4517-ac81-7d756ac4bbcd",
   "metadata": {},
   "outputs": [],
   "source": [
    "#A function is a block of reusable code that performs a specific task.\n",
    "#Instead of writing the same code again and again, we wrap it inside a function and just call it when needed."
   ]
  },
  {
   "cell_type": "code",
   "execution_count": 6,
   "id": "e5362a4e-647c-40b5-982a-1c007da5fd9d",
   "metadata": {},
   "outputs": [
    {
     "name": "stdout",
     "output_type": "stream",
     "text": [
      "Rohit Patil\n"
     ]
    }
   ],
   "source": [
    "#function \n",
    "def my_function():\n",
    "  print(\"Rohit Patil\")\n",
    "my_function()"
   ]
  },
  {
   "cell_type": "code",
   "execution_count": 7,
   "id": "d523f5f3-be1a-44e3-a4f8-288a4c03d75e",
   "metadata": {},
   "outputs": [
    {
     "name": "stdout",
     "output_type": "stream",
     "text": [
      "Rohit Patil\n"
     ]
    }
   ],
   "source": [
    "#function with parametr and argument\n",
    "def my_function(a): # here a is parameter\n",
    "  print(\"Rohit\",a)\n",
    "my_function('Patil') # here Patil is an Argument"
   ]
  },
  {
   "cell_type": "code",
   "execution_count": 5,
   "id": "7f79ed21-9b17-4879-a7a5-e3b1a2dda3a7",
   "metadata": {},
   "outputs": [
    {
     "name": "stdout",
     "output_type": "stream",
     "text": [
      "30\n"
     ]
    }
   ],
   "source": [
    "#function with parametrs and return values\n",
    "def add(a,b):  #defining a function\n",
    "    c=a+b\n",
    "    return c   #returning a value\n",
    "a=add(10,20)   #passing an argument to function\n",
    "print(a)       #print the value"
   ]
  },
  {
   "cell_type": "code",
   "execution_count": 15,
   "id": "ab747b88-a85f-4216-bf36-0e970a3a59bb",
   "metadata": {},
   "outputs": [
    {
     "name": "stdout",
     "output_type": "stream",
     "text": [
      "Hello, Patil!\n",
      "Hello, Rohit!\n"
     ]
    }
   ],
   "source": [
    "#default arguments\n",
    "def name(lname=\"Patil\"):\n",
    "    print(f\"Hello, {lname}!\")\n",
    "\n",
    "name()         # uses default\n",
    "name(\"Rohit\")  # overrides default"
   ]
  },
  {
   "cell_type": "code",
   "execution_count": 18,
   "id": "ab0edc28-d70f-42c2-bb7f-33157eab1f5d",
   "metadata": {},
   "outputs": [
    {
     "name": "stdout",
     "output_type": "stream",
     "text": [
      "Addition of 10 and  20 is 30\n",
      "Substraction of 4.5 and  2 is 6.5\n",
      "Multiplication  of 7 and  6 is 42\n",
      "Division  of 100 and  20 is 5.0\n"
     ]
    }
   ],
   "source": [
    "#small calcukation using function\n",
    "def cal(a,b,operation):\n",
    "    if operation == 'add':\n",
    "        print(f'Addition of {a} and  {b} is',a+b)\n",
    "    elif operation == 'sub':\n",
    "        print(f'Substraction of {a} and  {b} is',a+b)\n",
    "    elif operation == 'mul':\n",
    "        print(f'Multiplication  of {a} and  {b} is',a*b)\n",
    "    elif operation == 'div':\n",
    "        print(f'Division  of {a} and  {b} is',a/b)\n",
    "cal(10,20,'add')\n",
    "cal(4.5,2,'sub')\n",
    "cal(7,6,'mul')\n",
    "cal(100,20,'div')"
   ]
  },
  {
   "cell_type": "code",
   "execution_count": 19,
   "id": "8179f125-d2e4-4bb8-8dac-229e9277529e",
   "metadata": {},
   "outputs": [
    {
     "name": "stdout",
     "output_type": "stream",
     "text": [
      "Name : Rohit\n",
      "Age : 21\n",
      "Name : Rohit\n",
      "Age : 21\n"
     ]
    }
   ],
   "source": [
    "#keyword argument\n",
    "def name(name,age):\n",
    "    print('Name :',name)\n",
    "    print('Age :',age)\n",
    "name('Rohit',21)\n",
    "name(age=21,name='Rohit')"
   ]
  },
  {
   "cell_type": "code",
   "execution_count": 23,
   "id": "fd8ee7a7-fe2f-4162-acba-c0ed144ea889",
   "metadata": {},
   "outputs": [
    {
     "name": "stdout",
     "output_type": "stream",
     "text": [
      "5\n",
      "15\n"
     ]
    }
   ],
   "source": [
    "#arbitary positional arguments\n",
    "def add_numbers(*args):\n",
    "    total = 0\n",
    "    for num in args:\n",
    "        total += num\n",
    "    return total\n",
    "\n",
    "print(add_numbers(2, 3))          # 5\n",
    "print(add_numbers(1, 2, 3, 4, 5)) # 15"
   ]
  },
  {
   "cell_type": "code",
   "execution_count": 28,
   "id": "8e444962-8300-4cee-ab2c-fa236db60980",
   "metadata": {},
   "outputs": [
    {
     "name": "stdout",
     "output_type": "stream",
     "text": [
      "Profile Information:\n",
      "name: Rohit\n",
      "age: 25\n",
      "city: Solapur\n",
      "Profile Information:\n",
      "name: Aniket\n",
      "skill: Python\n",
      "hobby: Reading Books\n",
      "Profile Information:\n",
      "name: Mohit\n"
     ]
    }
   ],
   "source": [
    "def profile(**kwargs):\n",
    "    print(\"Profile Information:\")\n",
    "    for key, value in kwargs.items():\n",
    "        print(f\"{key}: {value}\")\n",
    "\n",
    "profile(name=\"Rohit\", age=25, city=\"Solapur\")\n",
    "profile(name=\"Aniket\", skill=\"Python\", hobby=\"Reading Books\")\n",
    "profile(name=\"Mohit\")"
   ]
  },
  {
   "cell_type": "code",
   "execution_count": 1,
   "id": "5084c290-3bda-4151-b830-8d6ea36d0376",
   "metadata": {},
   "outputs": [],
   "source": [
    "#Practice: Create a function that calculates total price of items with tax (use *args for items, **kwargs for tax/discount)."
   ]
  },
  {
   "cell_type": "code",
   "execution_count": 10,
   "id": "e5684e99-eea1-403c-96ea-65173ba8561e",
   "metadata": {},
   "outputs": [
    {
     "name": "stdout",
     "output_type": "stream",
     "text": [
      "110.0\n"
     ]
    }
   ],
   "source": [
    "def price(*args):\n",
    "    for item in args:\n",
    "        totalprice=item+(item*0.10)\n",
    "    print(totalprice)\n",
    "price(100)\n"
   ]
  },
  {
   "cell_type": "code",
   "execution_count": 11,
   "id": "a2e7f593-0e83-416d-8e71-142f674b122a",
   "metadata": {},
   "outputs": [
    {
     "name": "stdout",
     "output_type": "stream",
     "text": [
      "Inside function: 5\n",
      "Outside function: 10\n"
     ]
    }
   ],
   "source": [
    "#variable scope\n",
    "x = 10  # global\n",
    "\n",
    "def my_func():\n",
    "    x = 5  # local\n",
    "    print(\"Inside function:\", x)\n",
    "\n",
    "my_func()\n",
    "print(\"Outside function:\", x)"
   ]
  },
  {
   "cell_type": "code",
   "execution_count": 12,
   "id": "bec4a962-0370-45c2-9bef-76b6fc5be745",
   "metadata": {},
   "outputs": [
    {
     "name": "stdout",
     "output_type": "stream",
     "text": [
      "Counter value: 1\n",
      "Counter value: 2\n",
      "Counter value: 3\n"
     ]
    }
   ],
   "source": [
    "counter = 0  # global variable\n",
    "def counter_func():\n",
    "    global counter\n",
    "    counter += 1\n",
    "    print(\"Counter value:\", counter)\n",
    "# Test\n",
    "counter_func()\n",
    "counter_func()\n",
    "counter_func()\n"
   ]
  },
  {
   "cell_type": "code",
   "execution_count": 17,
   "id": "906994e1-98ef-4e2d-841b-6a8d1d565cb0",
   "metadata": {},
   "outputs": [
    {
     "data": {
      "text/plain": [
       "33"
      ]
     },
     "execution_count": 17,
     "metadata": {},
     "output_type": "execute_result"
    }
   ],
   "source": [
    "#Function Annotations & Docstrings\n",
    "def add(x: int, y: int) -> int: #it denotes that values should be integers\n",
    "    return x + y\n",
    "add(10,23)\n"
   ]
  },
  {
   "cell_type": "code",
   "execution_count": 19,
   "id": "c8d006c3-7828-4418-9d4c-446400310c68",
   "metadata": {},
   "outputs": [
    {
     "data": {
      "text/plain": [
       "'Hello Rohit'"
      ]
     },
     "execution_count": 19,
     "metadata": {},
     "output_type": "execute_result"
    }
   ],
   "source": [
    "def fun(x: str) -> str: #it denotes that values should be integers\n",
    "    return f'Hello {x}'\n",
    "fun('Rohit')"
   ]
  },
  {
   "cell_type": "code",
   "execution_count": 20,
   "id": "7ee6f508-feb0-4120-867b-be5a8ffa4de7",
   "metadata": {},
   "outputs": [],
   "source": [
    "#lamda functions"
   ]
  },
  {
   "cell_type": "code",
   "execution_count": 23,
   "id": "54d9e51c-76af-48bd-8603-7d573a5bdc8b",
   "metadata": {},
   "outputs": [
    {
     "name": "stdout",
     "output_type": "stream",
     "text": [
      "8\n",
      "15\n"
     ]
    }
   ],
   "source": [
    "add = lambda x, y: x + y\n",
    "print(add(5, 3))   \n",
    "multiply = lambda a, b: a * b\n",
    "print(multiply(3, 5)) "
   ]
  },
  {
   "cell_type": "code",
   "execution_count": 25,
   "id": "e6363003-faa6-4867-8c57-d70b24c72a53",
   "metadata": {},
   "outputs": [],
   "source": [
    "#built in lamda functions"
   ]
  },
  {
   "cell_type": "code",
   "execution_count": 26,
   "id": "69d10ac6-8dc7-4692-a407-48ac71aebca5",
   "metadata": {},
   "outputs": [
    {
     "name": "stdout",
     "output_type": "stream",
     "text": [
      "[1, 4, 9, 16]\n"
     ]
    }
   ],
   "source": [
    "#1] map function\n",
    "nums = [1, 2, 3, 4]\n",
    "squares = list(map(lambda x: x**2, nums))\n",
    "print(squares)"
   ]
  },
  {
   "cell_type": "code",
   "execution_count": 28,
   "id": "61c23199-f686-455a-bc2d-ccc28ad40094",
   "metadata": {},
   "outputs": [
    {
     "name": "stdout",
     "output_type": "stream",
     "text": [
      "[10, 20, 30]\n"
     ]
    }
   ],
   "source": [
    "#2] filter function\n",
    "nums = [10, 15, 20, 25, 30]\n",
    "evens = list(filter(lambda x: x % 2 == 0, nums))\n",
    "print(evens) "
   ]
  },
  {
   "cell_type": "code",
   "execution_count": 29,
   "id": "3a233b3c-2c8b-44d9-995a-13ca36244b5e",
   "metadata": {},
   "outputs": [
    {
     "name": "stdout",
     "output_type": "stream",
     "text": [
      "10\n"
     ]
    }
   ],
   "source": [
    "#3] reduce function\n",
    "from functools import reduce\n",
    "nums = [1, 2, 3, 4]\n",
    "addition = reduce(lambda x, y: x + y, nums)\n",
    "print(addition) "
   ]
  },
  {
   "cell_type": "code",
   "execution_count": 33,
   "id": "9689a2ba-d717-4971-b525-e9aaaf57373e",
   "metadata": {},
   "outputs": [
    {
     "name": "stdout",
     "output_type": "stream",
     "text": [
      "[('Amit', 19), ('Rohit', 21), ('Sneha', 22)]\n"
     ]
    }
   ],
   "source": [
    "#4] sorted function\n",
    "students = [(\"Rohit\", 21), (\"Amit\", 19), (\"Sneha\", 22)]\n",
    "sorted_by_age = sorted(students, key=lambda x: x[1])\n",
    "print(sorted_by_age)"
   ]
  },
  {
   "cell_type": "code",
   "execution_count": 35,
   "id": "2faeeb5d-60e7-4146-8781-3d5724ba4761",
   "metadata": {},
   "outputs": [
    {
     "name": "stdout",
     "output_type": "stream",
     "text": [
      "120\n"
     ]
    }
   ],
   "source": [
    "# recursion\n",
    "def factorial_recursive(n):\n",
    "    if n == 0 or n == 1:   # base case\n",
    "        return 1\n",
    "    return n * factorial_recursive(n - 1)   # recursive case\n",
    "print(factorial_recursive(5)) "
   ]
  },
  {
   "cell_type": "code",
   "execution_count": 36,
   "id": "797fb0a8-e6fc-4b7c-804a-9762d20f63ac",
   "metadata": {},
   "outputs": [
    {
     "name": "stdout",
     "output_type": "stream",
     "text": [
      "[0, 1, 1, 2, 3, 5]\n"
     ]
    }
   ],
   "source": [
    "def fibonacci(n):\n",
    "    if n <= 1:\n",
    "        return n\n",
    "    return fibonacci(n-1) + fibonacci(n-2)\n",
    "\n",
    "print([fibonacci(i) for i in range(6)])  "
   ]
  },
  {
   "cell_type": "code",
   "execution_count": null,
   "id": "76fa116b-be84-4bef-8abd-54f558495a47",
   "metadata": {},
   "outputs": [],
   "source": []
  }
 ],
 "metadata": {
  "kernelspec": {
   "display_name": "Python 3 (ipykernel)",
   "language": "python",
   "name": "python3"
  },
  "language_info": {
   "codemirror_mode": {
    "name": "ipython",
    "version": 3
   },
   "file_extension": ".py",
   "mimetype": "text/x-python",
   "name": "python",
   "nbconvert_exporter": "python",
   "pygments_lexer": "ipython3",
   "version": "3.12.4"
  }
 },
 "nbformat": 4,
 "nbformat_minor": 5
}
